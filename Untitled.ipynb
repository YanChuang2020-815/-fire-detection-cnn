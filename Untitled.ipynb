{
 "cells": [
  {
   "cell_type": "code",
   "execution_count": 2,
   "metadata": {},
   "outputs": [],
   "source": [
    "import cv2 as cv2\n",
    "#判断窗口点击事件\n",
    "clicked = False\n",
    "def onMouse(event,x,y,flags,param):\n",
    "    global clicked\n",
    "    if event == cv2.EVENT_LBUTTONUP:\n",
    "        clicked = True\n",
    "#捕获序号为0的摄像头\n",
    "cameroCapture = cv2.VideoCapture(0)\n",
    "#创建窗口\n",
    "cv2.namedWindow('window')\n",
    "#cv2.setMouseCallback('window',onMouse)\n",
    "#读取帧\n",
    "success,frame = cameroCapture.read()\n",
    "while success and cv2.waitKey(1) == -1:\n",
    "    cv2.imshow('window',frame)\n",
    "    success,frame = cameroCapture.read()\n",
    "cv2.destroyWindow('window')\n",
    "cameroCapture.release()"
   ]
  },
  {
   "cell_type": "code",
   "execution_count": null,
   "metadata": {},
   "outputs": [],
   "source": []
  }
 ],
 "metadata": {
  "kernelspec": {
   "display_name": "Python 3",
   "language": "python",
   "name": "python3"
  },
  "language_info": {
   "codemirror_mode": {
    "name": "ipython",
    "version": 3
   },
   "file_extension": ".py",
   "mimetype": "text/x-python",
   "name": "python",
   "nbconvert_exporter": "python",
   "pygments_lexer": "ipython3",
   "version": "3.7.6"
  }
 },
 "nbformat": 4,
 "nbformat_minor": 4
}
